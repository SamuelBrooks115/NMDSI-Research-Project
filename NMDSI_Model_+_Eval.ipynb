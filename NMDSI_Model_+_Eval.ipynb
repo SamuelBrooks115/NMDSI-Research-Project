{
  "cells": [
    {
      "cell_type": "markdown",
      "metadata": {
        "id": "view-in-github",
        "colab_type": "text"
      },
      "source": [
        "<a href=\"https://colab.research.google.com/github/SamuelBrooks115/NMDSI-Research-Project/blob/main/NMDSI_Model_%2B_Eval.ipynb\" target=\"_parent\"><img src=\"https://colab.research.google.com/assets/colab-badge.svg\" alt=\"Open In Colab\"/></a>"
      ]
    },
    {
      "cell_type": "code",
      "execution_count": null,
      "metadata": {
        "colab": {
          "base_uri": "https://localhost:8080/"
        },
        "id": "IlYQftzAj_A6",
        "outputId": "39b1725f-877d-4faf-dfc2-fc6428ad3590"
      },
      "outputs": [
        {
          "name": "stdout",
          "output_type": "stream",
          "text": [
            "Mounted at /content/drive\n"
          ]
        }
      ],
      "source": [
        "# prompt: mount google drive\n",
        "\n",
        "from google.colab import drive\n",
        "drive.mount('/content/drive')\n"
      ]
    },
    {
      "cell_type": "code",
      "execution_count": null,
      "metadata": {
        "colab": {
          "base_uri": "https://localhost:8080/",
          "height": 863
        },
        "id": "jIsrW3O35hRg",
        "outputId": "527d6599-d44d-48f6-f342-77b6665d740e"
      },
      "outputs": [
        {
          "name": "stderr",
          "output_type": "stream",
          "text": [
            "Downloading...\n",
            "From (original): https://drive.google.com/uc?id=1-3NcsOAA6L_5xtahz3T5w93f_JRLPpfW\n",
            "From (redirected): https://drive.google.com/uc?id=1-3NcsOAA6L_5xtahz3T5w93f_JRLPpfW&confirm=t&uuid=3fb3841f-5cdc-4e75-a22a-3da5036f3230\n",
            "To: /content/processed_dataset.csv\n",
            "100%|██████████| 479M/479M [00:06<00:00, 73.3MB/s]\n"
          ]
        },
        {
          "name": "stdout",
          "output_type": "stream",
          "text": [
            "          Timestamp  From Bank  Account  To Bank  Account.1  Amount Received  \\\n",
            "0  2022/09/01 00:20         10     6263       10       6386        -0.005770   \n",
            "1  2022/09/01 00:20       3208   342898        1     172656        -0.005774   \n",
            "2  2022/09/01 00:00       3209   343200     3209     328327        -0.005760   \n",
            "3  2022/09/01 00:02         12    71212       12      72895        -0.005771   \n",
            "4  2022/09/01 00:06         10     6270       10       6394        -0.005739   \n",
            "\n",
            "   Receiving Currency  Amount Paid  Payment Currency  Payment Format  \\\n",
            "0                  12    -0.005180                12               5   \n",
            "1                  12    -0.005184                12               3   \n",
            "2                  12    -0.005168                12               5   \n",
            "3                  12    -0.005181                12               5   \n",
            "4                  12    -0.005142                12               5   \n",
            "\n",
            "   Is Laundering  \n",
            "0              0  \n",
            "1              0  \n",
            "2              0  \n",
            "3              0  \n",
            "4              0  \n"
          ]
        },
        {
          "data": {
            "text/html": [
              "<table border=\"1\" class=\"dataframe\">\n",
              "  <thead>\n",
              "    <tr style=\"text-align: right;\">\n",
              "      <th></th>\n",
              "      <th>0</th>\n",
              "    </tr>\n",
              "  </thead>\n",
              "  <tbody>\n",
              "    <tr>\n",
              "      <th>Timestamp</th>\n",
              "      <td>object</td>\n",
              "    </tr>\n",
              "    <tr>\n",
              "      <th>From Bank</th>\n",
              "      <td>int64</td>\n",
              "    </tr>\n",
              "    <tr>\n",
              "      <th>Account</th>\n",
              "      <td>int64</td>\n",
              "    </tr>\n",
              "    <tr>\n",
              "      <th>To Bank</th>\n",
              "      <td>int64</td>\n",
              "    </tr>\n",
              "    <tr>\n",
              "      <th>Account.1</th>\n",
              "      <td>int64</td>\n",
              "    </tr>\n",
              "    <tr>\n",
              "      <th>Amount Received</th>\n",
              "      <td>float64</td>\n",
              "    </tr>\n",
              "    <tr>\n",
              "      <th>Receiving Currency</th>\n",
              "      <td>int64</td>\n",
              "    </tr>\n",
              "    <tr>\n",
              "      <th>Amount Paid</th>\n",
              "      <td>float64</td>\n",
              "    </tr>\n",
              "    <tr>\n",
              "      <th>Payment Currency</th>\n",
              "      <td>int64</td>\n",
              "    </tr>\n",
              "    <tr>\n",
              "      <th>Payment Format</th>\n",
              "      <td>int64</td>\n",
              "    </tr>\n",
              "    <tr>\n",
              "      <th>Is Laundering</th>\n",
              "      <td>int64</td>\n",
              "    </tr>\n",
              "  </tbody>\n",
              "</table><br><label><b>dtype:</b> object</label>"
            ],
            "text/plain": [
              "Timestamp              object\n",
              "From Bank               int64\n",
              "Account                 int64\n",
              "To Bank                 int64\n",
              "Account.1               int64\n",
              "Amount Received       float64\n",
              "Receiving Currency      int64\n",
              "Amount Paid           float64\n",
              "Payment Currency        int64\n",
              "Payment Format          int64\n",
              "Is Laundering           int64\n",
              "dtype: object"
            ]
          },
          "execution_count": 2,
          "metadata": {},
          "output_type": "execute_result"
        }
      ],
      "source": [
        "import pandas as pd\n",
        "import os\n",
        "import gdown\n",
        "\n",
        "#https://drive.google.com/file/d/1-3NcsOAA6L_5xtahz3T5w93f_JRLPpfW/view?usp=drive_link\n",
        "#1-3NcsOAA6L_5xtahz3T5w93f_JRLPpfW\n",
        "\n",
        "\n",
        "def download_file():\n",
        "  # Download the  preprocessed dataset\n",
        "  file_id = '1-3NcsOAA6L_5xtahz3T5w93f_JRLPpfW'  # File ID\n",
        "  destination = 'processed_dataset.csv'  # File Name\n",
        "\n",
        "\n",
        "  # Construct the download URL and download the file\n",
        "  download_url = f'https://drive.google.com/uc?id={file_id}'\n",
        "  gdown.download(download_url, destination, quiet=False)\n",
        "\n",
        "  #Load the dataset into a pandas DataFrame\n",
        "  import pandas as pd\n",
        "  dataset = pd.read_csv(destination)\n",
        "\n",
        "  return dataset\n",
        "\n",
        "file_name = 'processed_dataset.csv'\n",
        "if os.path.exists(file_name):\n",
        "  pro_dataset = pd.read_csv(file_name)\n",
        "else:\n",
        "  download_file()\n",
        "  pro_dataset = pd.read_csv(file_name)\n",
        "\n",
        "print(pro_dataset.head())\n",
        "\n",
        "df = pro_dataset\n",
        "df.dtypes\n",
        "\n"
      ]
    },
    {
      "cell_type": "code",
      "execution_count": null,
      "metadata": {
        "colab": {
          "base_uri": "https://localhost:8080/"
        },
        "id": "G_CZfhIn7iyZ",
        "outputId": "171f9b8d-ab1c-431a-ac52-6ab518097020"
      },
      "outputs": [
        {
          "data": {
            "text/plain": [
              "True"
            ]
          },
          "execution_count": 4,
          "metadata": {},
          "output_type": "execute_result"
        }
      ],
      "source": [
        "# prompt: check if the df variable is a pandas dataframe and if so return true\n",
        "\n",
        "import pandas as pd\n",
        "isinstance(df, pd.DataFrame)\n"
      ]
    },
    {
      "cell_type": "code",
      "execution_count": 3,
      "metadata": {
        "id": "JyBIXCHLGZx6"
      },
      "outputs": [],
      "source": [
        "import numpy as np\n",
        "import pandas as pd\n",
        "import torch\n",
        "from torch.utils.data import DataLoader, Dataset, random_split\n",
        "import torch.nn as nn\n",
        "import torch.optim as optim\n",
        "import matplotlib.pyplot as plt\n",
        "from imblearn.over_sampling import SMOTE\n",
        "from sklearn.metrics import precision_score, recall_score, f1_score, confusion_matrix\n",
        "\n"
      ]
    },
    {
      "cell_type": "code",
      "execution_count": null,
      "metadata": {
        "colab": {
          "base_uri": "https://localhost:8080/",
          "height": 426
        },
        "id": "Qt3Wjxqk2eGu",
        "outputId": "5918d178-705e-4332-f4c1-60a0f4340aa7"
      },
      "outputs": [
        {
          "name": "stdout",
          "output_type": "stream",
          "text": [
            "Processed batch 1/51\n",
            "Processed batch 2/51\n",
            "Processed batch 3/51\n"
          ]
        },
        {
          "ename": "KeyboardInterrupt",
          "evalue": "",
          "output_type": "error",
          "traceback": [
            "\u001b[0;31m---------------------------------------------------------------------------\u001b[0m",
            "\u001b[0;31mKeyboardInterrupt\u001b[0m                         Traceback (most recent call last)",
            "\u001b[0;32m<ipython-input-14-8f36b0b61a4a>\u001b[0m in \u001b[0;36m<cell line: 10>\u001b[0;34m()\u001b[0m\n\u001b[1;32m     11\u001b[0m     \u001b[0mend_idx\u001b[0m \u001b[0;34m=\u001b[0m \u001b[0mmin\u001b[0m\u001b[0;34m(\u001b[0m\u001b[0mstart_idx\u001b[0m \u001b[0;34m+\u001b[0m \u001b[0mbatch_size\u001b[0m\u001b[0;34m,\u001b[0m \u001b[0mlen\u001b[0m\u001b[0;34m(\u001b[0m\u001b[0mdf\u001b[0m\u001b[0;34m)\u001b[0m \u001b[0;34m-\u001b[0m \u001b[0msequence_length\u001b[0m \u001b[0;34m+\u001b[0m \u001b[0;36m1\u001b[0m\u001b[0;34m)\u001b[0m\u001b[0;34m\u001b[0m\u001b[0;34m\u001b[0m\u001b[0m\n\u001b[1;32m     12\u001b[0m     \u001b[0;32mfor\u001b[0m \u001b[0mi\u001b[0m \u001b[0;32min\u001b[0m \u001b[0mrange\u001b[0m\u001b[0;34m(\u001b[0m\u001b[0mstart_idx\u001b[0m\u001b[0;34m,\u001b[0m \u001b[0mend_idx\u001b[0m\u001b[0;34m)\u001b[0m\u001b[0;34m:\u001b[0m\u001b[0;34m\u001b[0m\u001b[0;34m\u001b[0m\u001b[0m\n\u001b[0;32m---> 13\u001b[0;31m         \u001b[0msequences\u001b[0m\u001b[0;34m.\u001b[0m\u001b[0mappend\u001b[0m\u001b[0;34m(\u001b[0m\u001b[0mdf\u001b[0m\u001b[0;34m.\u001b[0m\u001b[0miloc\u001b[0m\u001b[0;34m[\u001b[0m\u001b[0mi\u001b[0m\u001b[0;34m:\u001b[0m\u001b[0mi\u001b[0m \u001b[0;34m+\u001b[0m \u001b[0msequence_length\u001b[0m\u001b[0;34m]\u001b[0m\u001b[0;34m.\u001b[0m\u001b[0mdrop\u001b[0m\u001b[0;34m(\u001b[0m\u001b[0mcolumns\u001b[0m\u001b[0;34m=\u001b[0m\u001b[0;34m[\u001b[0m\u001b[0;34m'Timestamp'\u001b[0m\u001b[0;34m,\u001b[0m \u001b[0;34m'Is Laundering'\u001b[0m\u001b[0;34m]\u001b[0m\u001b[0;34m)\u001b[0m\u001b[0;34m.\u001b[0m\u001b[0mvalues\u001b[0m\u001b[0;34m)\u001b[0m\u001b[0;34m\u001b[0m\u001b[0;34m\u001b[0m\u001b[0m\n\u001b[0m\u001b[1;32m     14\u001b[0m         \u001b[0mlabels\u001b[0m\u001b[0;34m.\u001b[0m\u001b[0mappend\u001b[0m\u001b[0;34m(\u001b[0m\u001b[0mdf\u001b[0m\u001b[0;34m[\u001b[0m\u001b[0;34m'Is Laundering'\u001b[0m\u001b[0;34m]\u001b[0m\u001b[0;34m.\u001b[0m\u001b[0miloc\u001b[0m\u001b[0;34m[\u001b[0m\u001b[0mi\u001b[0m \u001b[0;34m+\u001b[0m \u001b[0msequence_length\u001b[0m \u001b[0;34m-\u001b[0m \u001b[0;36m1\u001b[0m\u001b[0;34m]\u001b[0m\u001b[0;34m)\u001b[0m\u001b[0;34m\u001b[0m\u001b[0;34m\u001b[0m\u001b[0m\n\u001b[1;32m     15\u001b[0m \u001b[0;34m\u001b[0m\u001b[0m\n",
            "\u001b[0;32m/usr/local/lib/python3.10/dist-packages/pandas/core/frame.py\u001b[0m in \u001b[0;36mvalues\u001b[0;34m(self)\u001b[0m\n\u001b[1;32m  11358\u001b[0m                ['monkey', nan, None]], dtype=object)\n\u001b[1;32m  11359\u001b[0m         \"\"\"\n\u001b[0;32m> 11360\u001b[0;31m         \u001b[0;32mreturn\u001b[0m \u001b[0mself\u001b[0m\u001b[0;34m.\u001b[0m\u001b[0m_mgr\u001b[0m\u001b[0;34m.\u001b[0m\u001b[0mas_array\u001b[0m\u001b[0;34m(\u001b[0m\u001b[0;34m)\u001b[0m\u001b[0;34m\u001b[0m\u001b[0;34m\u001b[0m\u001b[0m\n\u001b[0m\u001b[1;32m  11361\u001b[0m \u001b[0;34m\u001b[0m\u001b[0m\n\u001b[1;32m  11362\u001b[0m     \u001b[0;34m@\u001b[0m\u001b[0moverload\u001b[0m\u001b[0;34m\u001b[0m\u001b[0;34m\u001b[0m\u001b[0m\n",
            "\u001b[0;32m/usr/local/lib/python3.10/dist-packages/pandas/core/internals/managers.py\u001b[0m in \u001b[0;36mas_array\u001b[0;34m(self, dtype, copy, na_value)\u001b[0m\n\u001b[1;32m   1730\u001b[0m                 \u001b[0marr\u001b[0m\u001b[0;34m.\u001b[0m\u001b[0mflags\u001b[0m\u001b[0;34m.\u001b[0m\u001b[0mwriteable\u001b[0m \u001b[0;34m=\u001b[0m \u001b[0;32mFalse\u001b[0m\u001b[0;34m\u001b[0m\u001b[0;34m\u001b[0m\u001b[0m\n\u001b[1;32m   1731\u001b[0m         \u001b[0;32melse\u001b[0m\u001b[0;34m:\u001b[0m\u001b[0;34m\u001b[0m\u001b[0;34m\u001b[0m\u001b[0m\n\u001b[0;32m-> 1732\u001b[0;31m             \u001b[0marr\u001b[0m \u001b[0;34m=\u001b[0m \u001b[0mself\u001b[0m\u001b[0;34m.\u001b[0m\u001b[0m_interleave\u001b[0m\u001b[0;34m(\u001b[0m\u001b[0mdtype\u001b[0m\u001b[0;34m=\u001b[0m\u001b[0mdtype\u001b[0m\u001b[0;34m,\u001b[0m \u001b[0mna_value\u001b[0m\u001b[0;34m=\u001b[0m\u001b[0mna_value\u001b[0m\u001b[0;34m)\u001b[0m\u001b[0;34m\u001b[0m\u001b[0;34m\u001b[0m\u001b[0m\n\u001b[0m\u001b[1;32m   1733\u001b[0m             \u001b[0;31m# The underlying data was copied within _interleave, so no need\u001b[0m\u001b[0;34m\u001b[0m\u001b[0;34m\u001b[0m\u001b[0m\n\u001b[1;32m   1734\u001b[0m             \u001b[0;31m# to further copy if copy=True or setting na_value\u001b[0m\u001b[0;34m\u001b[0m\u001b[0;34m\u001b[0m\u001b[0m\n",
            "\u001b[0;32m/usr/local/lib/python3.10/dist-packages/pandas/core/internals/managers.py\u001b[0m in \u001b[0;36m_interleave\u001b[0;34m(self, dtype, na_value)\u001b[0m\n\u001b[1;32m   1793\u001b[0m                 \u001b[0marr\u001b[0m \u001b[0;34m=\u001b[0m \u001b[0mblk\u001b[0m\u001b[0;34m.\u001b[0m\u001b[0mget_values\u001b[0m\u001b[0;34m(\u001b[0m\u001b[0mdtype\u001b[0m\u001b[0;34m)\u001b[0m\u001b[0;34m\u001b[0m\u001b[0;34m\u001b[0m\u001b[0m\n\u001b[1;32m   1794\u001b[0m             \u001b[0mresult\u001b[0m\u001b[0;34m[\u001b[0m\u001b[0mrl\u001b[0m\u001b[0;34m.\u001b[0m\u001b[0mindexer\u001b[0m\u001b[0;34m]\u001b[0m \u001b[0;34m=\u001b[0m \u001b[0marr\u001b[0m\u001b[0;34m\u001b[0m\u001b[0;34m\u001b[0m\u001b[0m\n\u001b[0;32m-> 1795\u001b[0;31m             \u001b[0mitemmask\u001b[0m\u001b[0;34m[\u001b[0m\u001b[0mrl\u001b[0m\u001b[0;34m.\u001b[0m\u001b[0mindexer\u001b[0m\u001b[0;34m]\u001b[0m \u001b[0;34m=\u001b[0m \u001b[0;36m1\u001b[0m\u001b[0;34m\u001b[0m\u001b[0;34m\u001b[0m\u001b[0m\n\u001b[0m\u001b[1;32m   1796\u001b[0m \u001b[0;34m\u001b[0m\u001b[0m\n\u001b[1;32m   1797\u001b[0m         \u001b[0;32mif\u001b[0m \u001b[0;32mnot\u001b[0m \u001b[0mitemmask\u001b[0m\u001b[0;34m.\u001b[0m\u001b[0mall\u001b[0m\u001b[0;34m(\u001b[0m\u001b[0;34m)\u001b[0m\u001b[0;34m:\u001b[0m\u001b[0;34m\u001b[0m\u001b[0;34m\u001b[0m\u001b[0m\n",
            "\u001b[0;31mKeyboardInterrupt\u001b[0m: "
          ]
        }
      ],
      "source": [
        "# Create sequences for LSTM\n",
        "sequence_length =10  # Define sequence length\n",
        "sequences = []\n",
        "labels = []\n",
        "\n",
        "batch_size = 100000  # Adjust batch size as needed\n",
        "num_batches = (len(df) - sequence_length + 1) // batch_size + 1\n",
        "batch_count = 0\n",
        "\n",
        "for start_idx in range(0, len(df) - sequence_length + 1, batch_size):\n",
        "    end_idx = min(start_idx + batch_size, len(df) - sequence_length + 1)\n",
        "    for i in range(start_idx, end_idx):\n",
        "        sequences.append(df.iloc[i:i + sequence_length].drop(columns=['Timestamp', 'Is Laundering']).values)\n",
        "        labels.append(df['Is Laundering'].iloc[i + sequence_length - 1])\n",
        "\n",
        "    batch_count += 1\n",
        "    print(f\"Processed batch {batch_count}/{num_batches}\")\n",
        "\n",
        "sequences = np.array(sequences)\n",
        "labels = np.array(labels)\n",
        "\n",
        "print(sequences.shape)\n",
        "print(labels.shape)\n",
        "\n",
        "\n",
        "\n"
      ]
    },
    {
      "cell_type": "code",
      "execution_count": null,
      "metadata": {
        "colab": {
          "base_uri": "https://localhost:8080/"
        },
        "id": "AwaPDDCdeMTg",
        "outputId": "17ab91d5-ba26-4be1-8c13-fd56e40eb47d"
      },
      "outputs": [
        {
          "name": "stdout",
          "output_type": "stream",
          "text": [
            "Sequences and labels saved to files.\n"
          ]
        },
        {
          "data": {
            "text/plain": [
              "(5078336, 10, 9)"
            ]
          },
          "execution_count": 10,
          "metadata": {},
          "output_type": "execute_result"
        }
      ],
      "source": [
        "#Creating the sequences and labels takes forever so I just saved it to my google drive\n",
        "np.save('/content/drive/My Drive/sequences.npy', sequences)\n",
        "np.save('/content/drive/My Drive/labels.npy', labels)\n",
        "\n",
        "print(\"Sequences and labels saved to files.\")"
      ]
    },
    {
      "cell_type": "code",
      "execution_count": null,
      "metadata": {
        "colab": {
          "base_uri": "https://localhost:8080/"
        },
        "id": "KDEIaBxgY5Nn",
        "outputId": "b5d16271-3bd2-4d43-c8ce-09eea279d930"
      },
      "outputs": [
        {
          "name": "stdout",
          "output_type": "stream",
          "text": [
            "float64\n",
            "int64\n",
            "Sequences and labels saved to files.\n",
            "float32\n",
            "int8\n"
          ]
        }
      ],
      "source": [
        "print(sequences.dtype)\n",
        "print(labels.dtype)\n",
        "\n",
        "\n",
        "sequences = sequences.astype(np.float32)\n",
        "labels = labels.astype(np.int8)\n",
        "\n",
        "# Save the arrays\n",
        "np.save('/content/drive/My Drive/sequences.npy', sequences)\n",
        "np.save('/content/drive/My Drive/labels.npy', labels)\n",
        "\n",
        "print(\"Sequences and labels saved to files.\")\n",
        "\n",
        "print(sequences.dtype)\n",
        "print(labels.dtype)"
      ]
    },
    {
      "cell_type": "code",
      "execution_count": 4,
      "metadata": {
        "colab": {
          "base_uri": "https://localhost:8080/"
        },
        "collapsed": true,
        "id": "w_stbmi8kZy_",
        "outputId": "85d605c7-9278-4f14-b387-2ee4badb1477"
      },
      "outputs": [
        {
          "output_type": "stream",
          "name": "stderr",
          "text": [
            "Downloading...\n",
            "From (original): https://drive.google.com/uc?id=1uAlQRTJToXbYXD3PEk3hvxsDdvGiEoB3\n",
            "From (redirected): https://drive.google.com/uc?id=1uAlQRTJToXbYXD3PEk3hvxsDdvGiEoB3&confirm=t&uuid=1500af44-2c8a-468a-9839-b44fb61ac332\n",
            "To: /content/sequences.npy\n",
            "100%|██████████| 1.83G/1.83G [00:11<00:00, 156MB/s]\n",
            "Downloading...\n",
            "From: https://drive.google.com/uc?id=15QTJnp5N71N47hUjGjli5Pl5d-co0eXR\n",
            "To: /content/labels.npy\n",
            "100%|██████████| 5.08M/5.08M [00:00<00:00, 44.1MB/s]\n"
          ]
        },
        {
          "output_type": "stream",
          "name": "stdout",
          "text": [
            "(5078336, 10, 9)\n",
            "[0 0 0 ... 0 0 0]\n",
            "float32\n",
            "int8\n"
          ]
        }
      ],
      "source": [
        "import gdown\n",
        "import numpy as np\n",
        "\n",
        "def download_seq():\n",
        "  #https://drive.google.com/file/d/1uAlQRTJToXbYXD3PEk3hvxsDdvGiEoB3/view?usp=sharing\n",
        "  #1uAlQRTJToXbYXD3PEk3hvxsDdvGiEoB3\n",
        "\n",
        "  # Download the  preprocessed dataset\n",
        "  file_id = '1uAlQRTJToXbYXD3PEk3hvxsDdvGiEoB3'  # File ID\n",
        "  destination = 'sequences.npy'  # File Name\n",
        "\n",
        "\n",
        "  # Construct the download URL and download the file\n",
        "  download_url = f'https://drive.google.com/uc?id={file_id}'\n",
        "  gdown.download(download_url, destination, quiet=False)\n",
        "\n",
        "  #Load the dataset into a numpy array\n",
        "  sequences = np.load(destination)\n",
        "\n",
        "  return sequences\n",
        "\n",
        "def download_label():\n",
        "  #https://drive.google.com/file/d/15QTJnp5N71N47hUjGjli5Pl5d-co0eXR/view?usp=sharing\n",
        "  #15QTJnp5N71N47hUjGjli5Pl5d-co0eXR\n",
        "\n",
        "\n",
        "  # Download the  preprocessed dataset\n",
        "  file_id = '15QTJnp5N71N47hUjGjli5Pl5d-co0eXR'  # File ID\n",
        "  destination = 'labels.npy'  # File Name\n",
        "\n",
        "\n",
        "  # Construct the download URL and download the file\n",
        "  download_url = f'https://drive.google.com/uc?id={file_id}'\n",
        "  gdown.download(download_url, destination, quiet=False)\n",
        "\n",
        "  #Load the dataset into a numpy array\n",
        "  import numpy as np\n",
        "  labels = np.load(destination)\n",
        "\n",
        "  return labels\n",
        "\n",
        "\n",
        "sequences = download_seq()\n",
        "labels = download_label()\n",
        "\n",
        "sequences = np.array(sequences)\n",
        "labels = np.array(labels)\n",
        "\n",
        "print(sequences.shape)\n",
        "print(labels)\n",
        "print (sequences.dtype)\n",
        "print (labels.dtype)"
      ]
    },
    {
      "cell_type": "code",
      "source": [],
      "metadata": {
        "id": "aTO50qSftnrD"
      },
      "execution_count": null,
      "outputs": []
    },
    {
      "cell_type": "code",
      "execution_count": 11,
      "metadata": {
        "id": "_S3I-pA0Ixrh"
      },
      "outputs": [],
      "source": [
        "class LSTMModel(nn.Module):\n",
        "    def __init__(self, input_dim, hidden_dim, num_layers, output_dim):\n",
        "        super(LSTMModel, self).__init__()\n",
        "        self.lstm = nn.LSTM(input_dim, hidden_dim, num_layers, batch_first=True)\n",
        "        self.fc = nn.Linear(hidden_dim, output_dim)\n",
        "\n",
        "        self.device = torch.device(\"cuda\" if torch.cuda.is_available() else \"cpu\")\n",
        "\n",
        "    def forward(self, x):\n",
        "        h0 = torch.zeros(num_layers, x.size(0), hidden_dim).to(x.device)\n",
        "        c0 = torch.zeros(num_layers, x.size(0), hidden_dim).to(x.device)\n",
        "\n",
        "        out, _ = self.lstm(x, (h0, c0))\n",
        "        out = out[:, -1, :]  # Take the output of the last time step\n",
        "        out = self.fc(out)\n",
        "        return torch.sigmoid(out)\n",
        "\n",
        "class TransactionDataset(Dataset):\n",
        "    def __init__(self, sequences, labels):\n",
        "        self.sequences = sequences\n",
        "        self.labels = labels\n",
        "\n",
        "    def __len__(self):\n",
        "        return len(self.sequences)\n",
        "\n",
        "    def __getitem__(self, idx):\n",
        "        return torch.tensor(self.sequences[idx], dtype=torch.float32), torch.tensor(self.labels[idx], dtype=torch.float32)\n"
      ]
    },
    {
      "cell_type": "code",
      "execution_count": 12,
      "metadata": {
        "id": "0txIU29UJac0"
      },
      "outputs": [],
      "source": [
        "# Create Dataset and DataLoader\n",
        "\n",
        "sequences_resampled = sequences #Placeholder variable if penalizing method doesnt work\n",
        "labels_resampled = labels #Placeholder variable if the penalizing method doesnt work\n",
        "\n",
        "dataset = TransactionDataset(sequences_resampled, labels_resampled)\n",
        "\n",
        "train_size = int(0.8 * len(dataset))\n",
        "test_size = len(dataset) - train_size\n",
        "train_dataset, test_dataset = random_split(dataset, [train_size, test_size])\n",
        "\n",
        "train_loader = DataLoader(train_dataset, batch_size=128, shuffle=True)\n",
        "test_loader = DataLoader(test_dataset, batch_size=128, shuffle=False)"
      ]
    },
    {
      "cell_type": "code",
      "execution_count": 22,
      "metadata": {
        "colab": {
          "base_uri": "https://localhost:8080/",
          "height": 819
        },
        "id": "MVAFMuHkJSck",
        "outputId": "7299abf1-e631-47b9-ef86-26ce258f8503"
      },
      "outputs": [
        {
          "output_type": "stream",
          "name": "stdout",
          "text": [
            "Epoch 1/20, Average Loss: 0.6239\n",
            "Epoch 2/20, Average Loss: 0.6238\n",
            "Epoch 3/20, Average Loss: 0.6238\n",
            "Epoch 4/20, Average Loss: 0.6238\n",
            "Epoch 5/20, Average Loss: 0.6238\n",
            "Epoch 6/20, Average Loss: 0.6238\n",
            "Epoch 7/20, Average Loss: 0.6238\n",
            "Epoch 8/20, Average Loss: 0.6238\n",
            "Epoch 9/20, Average Loss: 0.6238\n",
            "Epoch 10/20, Average Loss: 0.6238\n",
            "Epoch 11/20, Average Loss: 0.6238\n",
            "Epoch 12/20, Average Loss: 0.6238\n",
            "Epoch 13/20, Average Loss: 0.6238\n",
            "Epoch 14/20, Average Loss: 0.6238\n",
            "Epoch 15/20, Average Loss: 0.6238\n",
            "Epoch 16/20, Average Loss: 0.6238\n",
            "Epoch 17/20, Average Loss: 0.6238\n",
            "Epoch 18/20, Average Loss: 0.6238\n",
            "Epoch 19/20, Average Loss: 0.6238\n",
            "Epoch 20/20, Average Loss: 0.6238\n"
          ]
        },
        {
          "output_type": "display_data",
          "data": {
            "text/plain": [
              "<Figure size 640x480 with 1 Axes>"
            ],
            "image/png": "[encoded data removed]"
          },
          "metadata": {}
        }
      ],
      "source": [
        "# Define model parameters\n",
        "input_dim = sequences.shape[2]\n",
        "hidden_dim = 64\n",
        "num_layers = 2\n",
        "output_dim = 1\n",
        "\n",
        "# Instantiate the model\n",
        "model = LSTMModel(input_dim, hidden_dim, num_layers, output_dim)\n",
        "model.to(model.device)\n",
        "\n",
        "#Define Positive weights\n",
        "'''\n",
        "minority_class = 5100\n",
        "majority_class = 4994900\n",
        "\n",
        "total = minority_class + majority_class #5,000,000 total\n",
        "pos_weight = torch.tensor([majority_class / minority_class], dtype=torch.float32).to(model.device) #Pos_weight = positive weight or the weight on 1\n",
        "'''\n",
        "\n",
        "weight = torch.tensor([0.9]).to(model.device)\n",
        "\n",
        "# Define loss function and optimizer\n",
        "criterion = nn.BCEWithLogitsLoss(weight = weight)  # Binary Cross-Entropy loss with logits\n",
        "optimizer = optim.Adam(model.parameters(), lr=0.001)\n",
        "\n",
        "# Apply weight initialization\n",
        "def weights_init(m):\n",
        "    if isinstance(m, nn.Linear) or isinstance(m, nn.Conv2d):\n",
        "        nn.init.xavier_uniform_(m.weight)\n",
        "        if m.bias is not None:\n",
        "            nn.init.constant_(m.bias, 0)\n",
        "\n",
        "model.apply(weights_init)\n",
        "\n",
        "# Training loop\n",
        "def train(model, train_loader, criterion, optimizer, num_epochs=20):\n",
        "    model.train()\n",
        "    loss_history = []\n",
        "    for epoch in range(num_epochs):\n",
        "        total_loss = 0\n",
        "        for sequences, labels in train_loader:\n",
        "            sequences, labels = sequences.to(model.device), labels.to(model.device).unsqueeze(1)\n",
        "            optimizer.zero_grad()\n",
        "            output = model(sequences)\n",
        "\n",
        "            loss = criterion(output, labels)\n",
        "            loss.backward()\n",
        "\n",
        "            # Gradient clipping\n",
        "            nn.utils.clip_grad_norm_(model.parameters(), max_norm=1.0)\n",
        "\n",
        "            optimizer.step()\n",
        "            total_loss += loss.item()\n",
        "\n",
        "        avg_loss = total_loss / len(train_loader)\n",
        "        loss_history.append(avg_loss)\n",
        "        print(f\"Epoch {epoch+1}/{num_epochs}, Average Loss: {avg_loss:.4f}\")\n",
        "\n",
        "    plt.plot(loss_history)\n",
        "    plt.xlabel('Epoch')\n",
        "    plt.ylabel('Loss')\n",
        "    plt.title('Training Loss Over Time')\n",
        "    plt.show()\n",
        "\n",
        "\n",
        "# Train the model\n",
        "train(model, train_loader, criterion, optimizer)\n"
      ]
    },
    {
      "cell_type": "code",
      "execution_count": 23,
      "metadata": {
        "colab": {
          "base_uri": "https://localhost:8080/"
        },
        "id": "X4hMdNVgU7M7",
        "outputId": "df4327be-9e93-4a0a-c22f-66e81d087b3a",
        "collapsed": true
      },
      "outputs": [
        {
          "output_type": "stream",
          "name": "stderr",
          "text": [
            "/usr/local/lib/python3.10/dist-packages/sklearn/metrics/_classification.py:1471: UndefinedMetricWarning: Precision is ill-defined and being set to 0.0 due to no predicted samples. Use `zero_division` parameter to control this behavior.\n",
            "  _warn_prf(average, modifier, msg_start, len(result))\n"
          ]
        },
        {
          "output_type": "stream",
          "name": "stdout",
          "text": [
            "Evaluation Loss: 0.6238, Accuracy: 0.9989\n",
            "Precision: 0.0000, Recall: 0.0000, F1 Score: 0.0000\n",
            "Confusion Matrix:\n",
            "[[1014599       0]\n",
            " [   1069       0]]\n"
          ]
        }
      ],
      "source": [
        "import torch\n",
        "from sklearn.metrics import precision_score, recall_score, f1_score, confusion_matrix\n",
        "\n",
        "# Evaluation function\n",
        "def evaluate(model, data_loader, criterion):\n",
        "    model.eval()\n",
        "    total_loss = 0\n",
        "    correct_predictions = 0\n",
        "    total_predictions = 0\n",
        "    all_labels = []\n",
        "    all_predictions = []\n",
        "\n",
        "    with torch.no_grad():\n",
        "        for sequences, labels in data_loader:\n",
        "            sequences, labels = sequences.to(model.device), labels.to(model.device).unsqueeze(1).float()\n",
        "            output = model(sequences)\n",
        "            loss = criterion(output, labels)\n",
        "            total_loss += loss.item()\n",
        "\n",
        "            predicted = (output > 0.5).float()\n",
        "            correct_predictions += (predicted == labels).sum().item()\n",
        "            total_predictions += labels.size(0)\n",
        "\n",
        "            all_labels.extend(labels.cpu().numpy())\n",
        "            all_predictions.extend(predicted.cpu().numpy())\n",
        "\n",
        "    accuracy = correct_predictions / total_predictions\n",
        "    precision = precision_score(all_labels, all_predictions)\n",
        "    recall = recall_score(all_labels, all_predictions)\n",
        "    f1 = f1_score(all_labels, all_predictions)\n",
        "    cm = confusion_matrix(all_labels, all_predictions)\n",
        "\n",
        "    return total_loss / len(data_loader), accuracy, precision, recall, f1, cm\n",
        "\n",
        "# Evaluate the model\n",
        "eval_loss, eval_accuracy, eval_precision, eval_recall, eval_f1, eval_cm = evaluate(model, test_loader, criterion)\n",
        "print(f\"Evaluation Loss: {eval_loss:.4f}, Accuracy: {eval_accuracy:.4f}\")\n",
        "print(f\"Precision: {eval_precision:.4f}, Recall: {eval_recall:.4f}, F1 Score: {eval_f1:.4f}\")\n",
        "print(f\"Confusion Matrix:\\n{eval_cm}\")\n",
        "\n"
      ]
    }
  ],
  "metadata": {
    "accelerator": "GPU",
    "colab": {
      "gpuType": "T4",
      "machine_shape": "hm",
      "provenance": [],
      "authorship_tag": "ABX9TyOG5BkA/mou0xQO2v8MFqa/",
      "include_colab_link": true
    },
    "kernelspec": {
      "display_name": "Python 3",
      "name": "python3"
    },
    "language_info": {
      "name": "python"
    }
  },
  "nbformat": 4,
  "nbformat_minor": 0
}